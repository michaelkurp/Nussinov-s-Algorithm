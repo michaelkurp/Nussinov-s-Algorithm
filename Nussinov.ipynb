{
 "cells": [
  {
   "cell_type": "code",
   "execution_count": 51,
   "metadata": {},
   "outputs": [],
   "source": [
    "from numpy import *"
   ]
  },
  {
   "cell_type": "code",
   "execution_count": 52,
   "metadata": {},
   "outputs": [],
   "source": [
    "seq=\"AUGGCAUCGGC\""
   ]
  },
  {
   "cell_type": "code",
   "execution_count": 79,
   "metadata": {},
   "outputs": [],
   "source": [
    "def base_pair(i,j):\n",
    "\n",
    "    pair = [seq[i], seq[j]]\n",
    "\n",
    "    if pair == ['A','U'] or pair == ['U','A']:\n",
    "        return(1)\n",
    "    elif pair == ['C','G'] or pair == ['G','C']:\n",
    "        return(1)\n",
    "    else:\n",
    "        return(0)"
   ]
  },
  {
   "cell_type": "code",
   "execution_count": 58,
   "metadata": {},
   "outputs": [],
   "source": [
    "s = np.zeros([N, N])\n",
    "fill_diagonal(s,0)"
   ]
  },
  {
   "cell_type": "code",
   "execution_count": 75,
   "metadata": {},
   "outputs": [],
   "source": [
    "def score(seq,N):\n",
    "  L=len(seq);\n",
    "  s=zeros((L,L));\n",
    "  for L in range(1,N):\n",
    "    for i in range(0,N-L):\n",
    "      j=i+L\n",
    "      if j-i>=1:\n",
    "        case1=s[i+1,j-1]+base_pair(i,j);\n",
    "        case2=s[i+1,j];\n",
    "        case3=s[i,j-1];\n",
    "        case4=0;\n",
    "        tmp=[];\n",
    "        for k in range(i+1,j):\n",
    "          tmp.append(s[i,k]+s[k+1,j]);\n",
    "          case4=max(tmp);\n",
    "        s[i,j]=max(case1,case2,case3,case4);\n",
    "      else:\n",
    "        s[i,j]=0\n",
    "  return s;"
   ]
  },
  {
   "cell_type": "code",
   "execution_count": 76,
   "metadata": {},
   "outputs": [],
   "source": [
    "def traceback(s, seq, i, j, pair):\n",
    "    if i < j:\n",
    "        if s[i, j] == s[i + 1, j - 1] + base_pair(i, j):\n",
    "            pair.append([i, j, str(seq[i]), str(seq[j])])\n",
    "            traceback(s, seq, i + 1, j - 1, pair)\n",
    "        elif s[i, j] == s[i + 1, j]:\n",
    "            traceback(s, seq, i + 1, j, pair)\n",
    "        elif s[i, j] == s[i, j - 1]:\n",
    "            traceback(s, seq, i, j - 1, pair)\n",
    "        else:\n",
    "            for k in range(i + 1, j):\n",
    "                if s[i, j] == s[i, k] + s[k + 1, j]:\n",
    "                    traceback(s, seq, i, k, pair)\n",
    "                    traceback(s, seq, k + 1, j, pair)\n",
    "                    break\n",
    "    return pair\n"
   ]
  },
  {
   "cell_type": "code",
   "execution_count": 77,
   "metadata": {},
   "outputs": [],
   "source": [
    "def run(seq):\n",
    "    N=len(seq)\n",
    "    s=score(seq, N)\n",
    "    pair=traceback(s,seq,0,len(seq)-1,[])\n",
    "    print(seq)\n",
    "    print(s)\n"
   ]
  },
  {
   "cell_type": "code",
   "execution_count": 78,
   "metadata": {},
   "outputs": [
    {
     "name": "stdout",
     "output_type": "stream",
     "text": [
      "AUGGCAUCGGC\n",
      "[[0. 1. 1. 1. 2. 2. 3. 4. 4. 4. 5.]\n",
      " [0. 0. 0. 0. 1. 2. 2. 3. 3. 3. 4.]\n",
      " [0. 0. 0. 0. 1. 1. 2. 3. 3. 3. 4.]\n",
      " [0. 0. 0. 0. 1. 1. 2. 2. 3. 3. 4.]\n",
      " [0. 0. 0. 0. 0. 0. 1. 1. 2. 3. 3.]\n",
      " [0. 0. 0. 0. 0. 0. 1. 1. 2. 2. 3.]\n",
      " [0. 0. 0. 0. 0. 0. 0. 0. 1. 1. 2.]\n",
      " [0. 0. 0. 0. 0. 0. 0. 0. 1. 1. 2.]\n",
      " [0. 0. 0. 0. 0. 0. 0. 0. 0. 0. 1.]\n",
      " [0. 0. 0. 0. 0. 0. 0. 0. 0. 0. 1.]\n",
      " [0. 0. 0. 0. 0. 0. 0. 0. 0. 0. 0.]]\n"
     ]
    }
   ],
   "source": [
    "run(seq)"
   ]
  },
  {
   "cell_type": "code",
   "execution_count": null,
   "metadata": {},
   "outputs": [],
   "source": []
  }
 ],
 "metadata": {
  "kernelspec": {
   "display_name": "Python 3",
   "language": "python",
   "name": "python3"
  },
  "language_info": {
   "codemirror_mode": {
    "name": "ipython",
    "version": 3
   },
   "file_extension": ".py",
   "mimetype": "text/x-python",
   "name": "python",
   "nbconvert_exporter": "python",
   "pygments_lexer": "ipython3",
   "version": "3.7.6"
  }
 },
 "nbformat": 4,
 "nbformat_minor": 4
}
